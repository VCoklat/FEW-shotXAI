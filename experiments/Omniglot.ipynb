{
 "cells": [
  {
   "cell_type": "code",
   "execution_count": 16,
   "source": [
    "import os\n",
    "os.environ[\"CUDA_VISIBLE_DEVICES\"]=\"0\"\n",
    "import numpy as np\n",
    "import pickle\n",
    "from scipy.io import loadmat\n",
    "\n",
    "\n",
    "from tensorflow.keras.layers import Input\n",
    "from tensorflow.keras.models import load_model\n",
    "from keras.datasets import mnist\n",
    "\n",
    "from architectures.protoshotxai import ProtoShotXAI\n",
    "from utils.ploting_function import xai_plot"
   ],
   "outputs": [],
   "metadata": {}
  },
  {
   "cell_type": "code",
   "execution_count": 2,
   "source": [
    "model_path_pretrained = '../trained_models/pretrained_conv_omni/'\n",
    "base_model = load_model(model_path_pretrained)"
   ],
   "outputs": [
    {
     "output_type": "stream",
     "name": "stdout",
     "text": [
      "WARNING:tensorflow:No training configuration found in save file, so the model was *not* compiled. Compile it manually.\n"
     ]
    }
   ],
   "metadata": {}
  },
  {
   "cell_type": "code",
   "execution_count": 19,
   "source": [
    "x_train = np.load('../data/train.npy')\n",
    "class_val = 64640\n",
    "# Reorder sample_indx use index 4 as query, the rest of the 18 samples are used for support\n",
    "sample_idx = [4, 1, 2, 3, 0, 5, 6, 7, 8, 9, 10, 11, 12, 13, 14, 15 ,16 ,17, 18] \n",
    "samples = x_train[class_val][sample_idx]/255\n",
    "query = samples[0]\n",
    "query = np.expand_dims(query,axis=0)\n",
    "support_data = samples[1:]"
   ],
   "outputs": [],
   "metadata": {}
  },
  {
   "cell_type": "code",
   "execution_count": 10,
   "source": [
    "protoshot = ProtoShotXAI(base_model,feature_layer=-1,class_layer=None)\n",
    "ref_pixel = [1]"
   ],
   "outputs": [],
   "metadata": {}
  },
  {
   "cell_type": "code",
   "execution_count": 11,
   "source": [
    "protoshot_attributions = protoshot.image_feature_attribution(support_data, query, None, ref_pixel, pad=1)"
   ],
   "outputs": [
    {
     "output_type": "stream",
     "name": "stderr",
     "text": [
      "100%|██████████| 28/28 [00:00<00:00, 71.48it/s]\n"
     ]
    }
   ],
   "metadata": {}
  },
  {
   "cell_type": "code",
   "execution_count": 13,
   "source": [
    "import matplotlib.pyplot as plt\n",
    "import utils.shap_color_scheme.colors as colors\n",
    "\n",
    "abs_vals = np.abs(protoshot_attributions).flatten()\n",
    "max_val = np.nanpercentile(abs_vals, 99)\n",
    "fig, m_axs = plt.subplots(1,2, figsize = (6,3))\n",
    "for i, c_ax in enumerate(m_axs.flatten()):\n",
    "    if i == 0:\n",
    "        c_ax.imshow(query[0]-1, interpolation = 'nearest', cmap='gray', alpha=0.8)\n",
    "        c_ax.set_title('Omniglot Features')\n",
    "        c_ax.axis('off')\n",
    "    else:\n",
    "        c_ax.imshow(query[0]-1, interpolation = 'nearest', cmap='gray', alpha=0.15)\n",
    "        im = c_ax.imshow(protoshot_attributions, cmap=colors.red_transparent_blue, vmin=-max_val, vmax=max_val)\n",
    "        c_ax.set_title('SLING-Shot Omniglot \\n Feature Explanations')\n",
    "        c_ax.axis('off')\n",
    "plt.savefig('./results/Omniglot/Omniglot_Features.png', dpi=450)\n"
   ],
   "outputs": [
    {
     "output_type": "display_data",
     "data": {
      "image/png": "[encoded data removed]",
      "text/plain": [
       "<Figure size 432x216 with 2 Axes>"
      ]
     },
     "metadata": {
      "needs_background": "light"
     }
    }
   ],
   "metadata": {}
  },
  {
   "cell_type": "code",
   "execution_count": 20,
   "source": [
    "\n",
    "\n",
    "query = np.expand_dims(np.copy(query),axis=0)\n",
    "support_data = np.expand_dims(support_data,axis=0)\n",
    "matdata = loadmat('../data/omniglot_sample_revized.mat')\n",
    "base_score = protoshot.compute_score(support_data,query,None)\n",
    "print(base_score)\n",
    "modified_query = np.zeros_like(query)\n",
    "modified_query[0,0,:,:,0] = matdata['input_ex1']\n",
    "remove_feature_1_score = protoshot.compute_score(support_data,modified_query,None)\n",
    "print(remove_feature_1_score)\n",
    "modified_query[0,0,:,:,0] = matdata['input_ex2']\n",
    "remove_feature_2_score = protoshot.compute_score(support_data,modified_query,None)\n",
    "print(remove_feature_2_score)\n",
    "modified_query[0,0,:,:,0] = matdata['input_ex3']\n",
    "remove_feature_3_score = protoshot.compute_score(support_data,modified_query,None)\n",
    "print(remove_feature_3_score)"
   ],
   "outputs": [
    {
     "output_type": "stream",
     "name": "stdout",
     "text": [
      "0.9543636\n",
      "0.84555763\n",
      "0.9279544\n",
      "0.90548617\n"
     ]
    }
   ],
   "metadata": {}
  },
  {
   "cell_type": "code",
   "execution_count": 23,
   "source": [
    "import matplotlib.pyplot as plt\n",
    "import utils.shap_color_scheme.colors as colors\n",
    "\n",
    "fig, m_axs = plt.subplots(4,1, figsize = (3,12))\n",
    "for i, c_ax in enumerate(m_axs.flatten()):\n",
    "    if i == 0:\n",
    "        c_ax.imshow(query[0,0,:,:,:], interpolation = 'nearest', cmap='gray', alpha=1)\n",
    "        c_ax.set_title('Full Omniglot Character')\n",
    "        c_ax.axis('off')\n",
    "    elif i == 1:\n",
    "        c_ax.imshow(matdata['input_ex1'], interpolation = 'nearest', cmap='gray', alpha=1)\n",
    "        c_ax.set_title('Remove Feature 1')\n",
    "        c_ax.axis('off')\n",
    "    elif i == 2:\n",
    "        c_ax.imshow(matdata['input_ex2'], interpolation = 'nearest', cmap='gray', alpha=1)\n",
    "        c_ax.set_title('Remove Feature 2')\n",
    "        c_ax.axis('off')\n",
    "    else:\n",
    "        c_ax.imshow(matdata['input_ex3'], interpolation = 'nearest', cmap='gray', alpha=1)\n",
    "        c_ax.set_title('Remove Feature 3')\n",
    "        c_ax.axis('off')\n",
    "plt.savefig('./results/Omniglot/Omniglot_Large_Feature_Removal.png', dpi=450)\n"
   ],
   "outputs": [
    {
     "output_type": "display_data",
     "data": {
      "image/png": "[encoded data removed]",
      "text/plain": [
       "<Figure size 216x864 with 4 Axes>"
      ]
     },
     "metadata": {
      "needs_background": "light"
     }
    }
   ],
   "metadata": {}
  }
 ],
 "metadata": {
  "orig_nbformat": 4,
  "language_info": {
   "name": "python",
   "version": "3.6.13",
   "mimetype": "text/x-python",
   "codemirror_mode": {
    "name": "ipython",
    "version": 3
   },
   "pygments_lexer": "ipython3",
   "nbconvert_exporter": "python",
   "file_extension": ".py"
  },
  "kernelspec": {
   "name": "python3",
   "display_name": "Python 3.6.13 64-bit ('ProtoShotXAI': conda)"
  },
  "interpreter": {
   "hash": "5a382e6ae6f57eeddae35781e992240f11e619a1bb49fba3db48502af739c8e0"
  }
 },
 "nbformat": 4,
 "nbformat_minor": 2
}