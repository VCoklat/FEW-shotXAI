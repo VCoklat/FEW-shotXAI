{
 "cells": [
  {
   "cell_type": "markdown",
   "source": [
    "# Feature Attribution on Eight Experiments comparing ProtoShotXAI, Grad-CAM, DeepShap Expected Gradients (SHAP), and LIME\n",
    "TODO: Add examples from the other models, make plotting function for display\n"
   ],
   "metadata": {}
  },
  {
   "cell_type": "markdown",
   "source": [
    "## Initialization, loading model and data"
   ],
   "metadata": {}
  },
  {
   "cell_type": "markdown",
   "source": [
    "### Imports"
   ],
   "metadata": {}
  },
  {
   "cell_type": "code",
   "execution_count": 1,
   "source": [
    "import os\n",
    "os.environ[\"CUDA_VISIBLE_DEVICES\"]=\"0\"\n",
    "import numpy as np\n",
    "import pickle\n",
    "\n",
    "from tensorflow.keras.layers import Input\n",
    "from tensorflow.keras.models import load_model\n",
    "from keras.datasets import mnist\n",
    "\n",
    "from architectures.protoshotxai import ProtoShotXAI\n",
    "from utils.ploting_function import xai_plot"
   ],
   "outputs": [],
   "metadata": {}
  },
  {
   "cell_type": "markdown",
   "source": [
    "### Get Base Model to be Explained (i.e., pretrained conv MNIST model)"
   ],
   "metadata": {}
  },
  {
   "cell_type": "code",
   "execution_count": 2,
   "source": [
    "model_path_pretrained = '../trained_models/pretrained_conv_mnist/'\n",
    "base_model = load_model(model_path_pretrained)"
   ],
   "outputs": [],
   "metadata": {}
  },
  {
   "cell_type": "markdown",
   "source": [
    "### Load support data and query sample eight"
   ],
   "metadata": {}
  },
  {
   "cell_type": "code",
   "execution_count": 12,
   "source": [
    "#Load MNIST\n",
    "(x_train, y_train), (x_test, y_test) = mnist.load_data()\n",
    "x_train = np.expand_dims(x_train,axis = 3)/255\n",
    "query = np.expand_dims(x_train[3029],axis=0)\n",
    "n_classes = 10"
   ],
   "outputs": [],
   "metadata": {}
  },
  {
   "cell_type": "markdown",
   "source": [
    "## ProtoShotXAI"
   ],
   "metadata": {}
  },
  {
   "cell_type": "markdown",
   "source": [
    "### Load ProtoShotXAI class and set number of of sample for prototype (e.g.,100)"
   ],
   "metadata": {}
  },
  {
   "cell_type": "code",
   "execution_count": 4,
   "source": [
    "protoshot = ProtoShotXAI(base_model)\n",
    "shot = 100"
   ],
   "outputs": [],
   "metadata": {}
  },
  {
   "cell_type": "markdown",
   "source": [
    "### Loop through all the classes and run image feature attribution"
   ],
   "metadata": {}
  },
  {
   "cell_type": "code",
   "execution_count": 19,
   "source": [
    "ref_pixel = [0]\n",
    "protoshot_attributions = np.zeros((10,np.shape(query)[1],np.shape(query)[2]))\n",
    "for iclass in range(n_classes):\n",
    "    print(f'class: {iclass}')\n",
    "    #Get N shot random sample from class iclass\n",
    "    support_data = x_train[y_train == iclass]\n",
    "    support_data = support_data[np.random.permutation(support_data.shape[0])[:shot]]\n",
    "    #Run protoshotXAI feature attribution\n",
    "    protoshot_attributions[iclass,:,:] = protoshot.image_feature_attribution(support_data, query, iclass, ref_pixel, pad=1)"
   ],
   "outputs": [
    {
     "output_type": "stream",
     "name": "stdout",
     "text": [
      "class: 0\n"
     ]
    },
    {
     "output_type": "stream",
     "name": "stderr",
     "text": [
      "100%|██████████| 28/28 [00:00<00:00, 142.22it/s]\n"
     ]
    },
    {
     "output_type": "stream",
     "name": "stdout",
     "text": [
      "class: 1\n"
     ]
    },
    {
     "output_type": "stream",
     "name": "stderr",
     "text": [
      "100%|██████████| 28/28 [00:00<00:00, 141.79it/s]\n"
     ]
    },
    {
     "output_type": "stream",
     "name": "stdout",
     "text": [
      "class: 2\n"
     ]
    },
    {
     "output_type": "stream",
     "name": "stderr",
     "text": [
      "100%|██████████| 28/28 [00:00<00:00, 141.31it/s]\n"
     ]
    },
    {
     "output_type": "stream",
     "name": "stdout",
     "text": [
      "class: 3\n"
     ]
    },
    {
     "output_type": "stream",
     "name": "stderr",
     "text": [
      "100%|██████████| 28/28 [00:00<00:00, 141.11it/s]\n"
     ]
    },
    {
     "output_type": "stream",
     "name": "stdout",
     "text": [
      "class: 4\n"
     ]
    },
    {
     "output_type": "stream",
     "name": "stderr",
     "text": [
      "100%|██████████| 28/28 [00:00<00:00, 140.66it/s]\n"
     ]
    },
    {
     "output_type": "stream",
     "name": "stdout",
     "text": [
      "class: 5\n"
     ]
    },
    {
     "output_type": "stream",
     "name": "stderr",
     "text": [
      "100%|██████████| 28/28 [00:00<00:00, 141.26it/s]\n"
     ]
    },
    {
     "output_type": "stream",
     "name": "stdout",
     "text": [
      "class: 6\n"
     ]
    },
    {
     "output_type": "stream",
     "name": "stderr",
     "text": [
      "100%|██████████| 28/28 [00:00<00:00, 141.01it/s]\n"
     ]
    },
    {
     "output_type": "stream",
     "name": "stdout",
     "text": [
      "class: 7\n"
     ]
    },
    {
     "output_type": "stream",
     "name": "stderr",
     "text": [
      "100%|██████████| 28/28 [00:00<00:00, 141.38it/s]\n"
     ]
    },
    {
     "output_type": "stream",
     "name": "stdout",
     "text": [
      "class: 8\n"
     ]
    },
    {
     "output_type": "stream",
     "name": "stderr",
     "text": [
      "100%|██████████| 28/28 [00:00<00:00, 141.34it/s]\n"
     ]
    },
    {
     "output_type": "stream",
     "name": "stdout",
     "text": [
      "class: 9\n"
     ]
    },
    {
     "output_type": "stream",
     "name": "stderr",
     "text": [
      "100%|██████████| 28/28 [00:00<00:00, 141.19it/s]\n"
     ]
    }
   ],
   "metadata": {}
  },
  {
   "cell_type": "markdown",
   "source": [
    "## Image Plotting"
   ],
   "metadata": {}
  },
  {
   "cell_type": "code",
   "execution_count": 21,
   "source": [
    "import matplotlib.pyplot as plt\n",
    "import utils.shap_color_scheme.colors as colors\n",
    "\n",
    "abs_vals = np.abs(protoshot_attributions).flatten()\n",
    "max_val = np.nanpercentile(abs_vals, 98)\n",
    "fig, m_axs = plt.subplots(1,10, figsize = (24,3))\n",
    "for i, c_ax in enumerate(m_axs.flatten()):\n",
    "    abs_vals = np.abs(protoshot_attributions[i]).flatten()\n",
    "    max_val = np.nanpercentile(abs_vals, 98)\n",
    "    c_ax.imshow(1-query[0], interpolation = 'nearest', cmap='gray', alpha=0.15)\n",
    "    im = c_ax.imshow(protoshot_attributions[i], cmap=colors.red_transparent_blue, vmin=-max_val, vmax=max_val)\n",
    "    c_ax.set_title('Positive for {}\\nActual {}'.format(i, 8))\n",
    "    c_ax.axis('off')\n",
    "plt.savefig('./results/Eight_feature_attribution/ProtoShotXAI_Feature_Attibution_8.png',dpi=450)"
   ],
   "outputs": [
    {
     "output_type": "display_data",
     "data": {
      "image/png": "[encoded data removed]",
      "text/plain": [
       "<Figure size 1728x216 with 10 Axes>"
      ]
     },
     "metadata": {
      "needs_background": "light"
     }
    }
   ],
   "metadata": {}
  },
  {
   "cell_type": "code",
   "execution_count": null,
   "source": [],
   "outputs": [],
   "metadata": {}
  }
 ],
 "metadata": {
  "orig_nbformat": 4,
  "language_info": {
   "name": "python",
   "version": "3.6.13",
   "mimetype": "text/x-python",
   "codemirror_mode": {
    "name": "ipython",
    "version": 3
   },
   "pygments_lexer": "ipython3",
   "nbconvert_exporter": "python",
   "file_extension": ".py"
  },
  "kernelspec": {
   "name": "python3",
   "display_name": "Python 3.6.13 64-bit ('ProtoShotXAI': conda)"
  },
  "interpreter": {
   "hash": "5a382e6ae6f57eeddae35781e992240f11e619a1bb49fba3db48502af739c8e0"
  }
 },
 "nbformat": 4,
 "nbformat_minor": 2
}